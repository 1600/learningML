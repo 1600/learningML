{
 "cells": [
  {
   "cell_type": "code",
   "execution_count": null,
   "metadata": {
    "collapsed": false
   },
   "outputs": [],
   "source": [
    "# -*- coding:utf-8 -*-\n",
    "import pandas as pd\n",
    "import subprocess\n",
    "import pydotplus\n",
    "import xgboost as xgb\n",
    "from sklearn.model_selection import GridSearchCV\n",
    "from sklearn.model_selection import train_test_split\n",
    "from sklearn.model_selection import cross_val_score\n",
    "import matplotlib.pylab as plt\n",
    "\n",
    "# 数据导入\n",
    "xls_file = pd.ExcelFile('all.xls')\n",
    "# print(xls_file.sheet_names)\n",
    "df = xls_file.parse('sheet1')\n",
    "df_target = df['result']"
   ]
  },
  {
   "cell_type": "code",
   "execution_count": null,
   "metadata": {
    "collapsed": false
   },
   "outputs": [],
   "source": [
    "# 对范畴类变量进行编码\n",
    "for column in ['uristem','uriquery','http_status']:\n",
    "    dummies = pd.get_dummies(df[column])\n",
    "    df[dummies.columns]=dummies\n",
    "\n",
    "# 去掉已编码的原属性\n",
    "df.drop(['domain','uristem','uriquery','http_status'], axis=1, inplace=True)\n",
    "#df.ix[:,df.columns!=999]"
   ]
  },
  {
   "cell_type": "code",
   "execution_count": null,
   "metadata": {
    "collapsed": false,
    "scrolled": true
   },
   "outputs": [],
   "source": [
    "train, test = train_test_split(df, test_size = 0.2)   # doing split of training and testing\n",
    "train_data, train_target= train.ix[:, train.columns != 'result'], train['result']\n",
    "test_data, test_target = test.ix[:, test.columns != 'result'], test['result']\n",
    "print(train_data.shape)\n",
    "print(train_target.shape)"
   ]
  },
  {
   "cell_type": "code",
   "execution_count": null,
   "metadata": {
    "collapsed": false,
    "scrolled": true
   },
   "outputs": [],
   "source": [
    "# XGBoost\n",
    "\n",
    "cv_params = {'max_depth': [3,5,7], 'min_child_weight': [1,3,5]}\n",
    "ind_params = {'learning_rate': 0.1, 'n_estimators': 1000, 'seed':0, 'subsample': 0.8, 'colsample_bytree': 0.8, \n",
    "             'objective': 'binary:logistic'}\n",
    "optimized_GBM = GridSearchCV(xgb.XGBClassifier(**ind_params), cv_params, scoring = 'accuracy', cv = 5, n_jobs = -1)\n",
    "\n",
    "optimized_GBM.fit(train_data, train_target)"
   ]
  },
  {
   "cell_type": "code",
   "execution_count": null,
   "metadata": {
    "collapsed": false
   },
   "outputs": [],
   "source": [
    "# 交叉验证\n",
    "train_scores = cross_val_score(optimized_GBM , test_data, test_target, cv=7,scoring='accuracy')\n",
    "print(train_scores)\n",
    "#test_scores = cross_val_score(clf, test_data, test_target, cv=5,scoring='accuracy')\n",
    "#print(scores)"
   ]
  },
  {
   "cell_type": "code",
   "execution_count": null,
   "metadata": {
    "collapsed": false
   },
   "outputs": [],
   "source": []
  }
 ],
 "metadata": {
  "anaconda-cloud": {},
  "kernelspec": {
   "display_name": "Python [conda root]",
   "language": "python",
   "name": "conda-root-py"
  },
  "language_info": {
   "codemirror_mode": {
    "name": "ipython",
    "version": 3
   },
   "file_extension": ".py",
   "mimetype": "text/x-python",
   "name": "python",
   "nbconvert_exporter": "python",
   "pygments_lexer": "ipython3",
   "version": "3.5.2"
  }
 },
 "nbformat": 4,
 "nbformat_minor": 1
}
