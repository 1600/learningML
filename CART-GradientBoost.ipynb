{
 "cells": [
  {
   "cell_type": "code",
   "execution_count": 1,
   "metadata": {
    "collapsed": false
   },
   "outputs": [],
   "source": [
    "# -*- coding:utf-8 -*-\n",
    "import pandas as pd\n",
    "import subprocess\n",
    "import pydotplus\n",
    "from sklearn.ensemble import GradientBoostingClassifier\n",
    "from sklearn.model_selection import train_test_split\n",
    "from sklearn.model_selection import cross_val_score\n",
    "\n",
    "# 数据导入\n",
    "xls_file = pd.ExcelFile('alliance.xls')\n",
    "# print(xls_file.sheet_names)\n",
    "df = xls_file.parse('sheet1')\n",
    "df_target = df['result']"
   ]
  },
  {
   "cell_type": "code",
   "execution_count": 2,
   "metadata": {
    "collapsed": false
   },
   "outputs": [],
   "source": [
    "# 对范畴类变量进行编码\n",
    "for column in ['uristem','uriquery','http_status']:\n",
    "    dummies = pd.get_dummies(df[column])\n",
    "    df[dummies.columns]=dummies\n",
    "\n",
    "# 去掉已编码的原属性\n",
    "df.drop(['domain','uristem','uriquery','http_status'], axis=1, inplace=True)\n",
    "#df.ix[:,df.columns!=999]"
   ]
  },
  {
   "cell_type": "code",
   "execution_count": 3,
   "metadata": {
    "collapsed": false,
    "scrolled": true
   },
   "outputs": [
    {
     "name": "stdout",
     "output_type": "stream",
     "text": [
      "(1244, 19)\n",
      "(1244,)\n"
     ]
    }
   ],
   "source": [
    "# 拆分数据集为训练集和测试集\n",
    "train, test = train_test_split(df, test_size = 0.2)   # doing split of training and testing\n",
    "train_data, train_target= train.ix[:, train.columns != 'result'], train['result']\n",
    "test_data, test_target = test.ix[:, test.columns != 'result'], test['result']\n",
    "print(train_data.shape)\n",
    "print(train_target.shape)"
   ]
  },
  {
   "cell_type": "code",
   "execution_count": 4,
   "metadata": {
    "collapsed": false,
    "scrolled": true
   },
   "outputs": [
    {
     "data": {
      "text/plain": [
       "0.84405144694533762"
      ]
     },
     "execution_count": 4,
     "metadata": {},
     "output_type": "execute_result"
    }
   ],
   "source": [
    "# GradientBoost\n",
    "# 可控制参数为 n_estimators, max_depth\n",
    "# For datasets with a large number of classes we strongly recommend to use RandomForestClassifier as an alternative to GradientBoostingClassifier .\n",
    "clf = GradientBoostingClassifier(n_estimators=100, learning_rate=1.0, max_depth=1, random_state=0)\n",
    "clf.fit(train_data,train_target)\n",
    "clf.score(train_data, train_target)"
   ]
  },
  {
   "cell_type": "code",
   "execution_count": 5,
   "metadata": {
    "collapsed": false
   },
   "outputs": [
    {
     "name": "stdout",
     "output_type": "stream",
     "text": [
      "[ 0.73333333  0.73333333  0.88888889  0.66666667  0.79545455  0.86363636\n",
      "  0.75      ]\n"
     ]
    }
   ],
   "source": [
    "# 交叉验证\n",
    "train_scores = cross_val_score(clf , test_data, test_target, cv=7,scoring='accuracy')\n",
    "print(train_scores)\n",
    "#test_scores = cross_val_score(clf, test_data, test_target, cv=5,scoring='accuracy')\n",
    "#print(scores)"
   ]
  },
  {
   "cell_type": "code",
   "execution_count": null,
   "metadata": {
    "collapsed": false
   },
   "outputs": [],
   "source": []
  }
 ],
 "metadata": {
  "anaconda-cloud": {},
  "kernelspec": {
   "display_name": "Python [conda root]",
   "language": "python",
   "name": "conda-root-py"
  },
  "language_info": {
   "codemirror_mode": {
    "name": "ipython",
    "version": 3
   },
   "file_extension": ".py",
   "mimetype": "text/x-python",
   "name": "python",
   "nbconvert_exporter": "python",
   "pygments_lexer": "ipython3",
   "version": "3.5.2"
  }
 },
 "nbformat": 4,
 "nbformat_minor": 1
}
