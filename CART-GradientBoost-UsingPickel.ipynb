{
 "cells": [
  {
   "cell_type": "code",
   "execution_count": 16,
   "metadata": {
    "collapsed": false
   },
   "outputs": [],
   "source": [
    "import pickle\n",
    "import pandas as pd\n",
    "from sklearn.model_selection import cross_val_score\n",
    "from sklearn.model_selection import train_test_split\n",
    "\n",
    "\n",
    "# 数据导入\n",
    "xls_file = pd.ExcelFile('alliance.xls')\n",
    "# print(xls_file.sheet_names)\n",
    "df = xls_file.parse('sheet1')\n",
    "df_target = df['result']\n",
    "\n",
    "# 对范畴类变量进行编码\n",
    "for column in ['(L)HTTPstatus']:\n",
    "    dummies = pd.get_dummies(df[column])\n",
    "    df[dummies.columns]=dummies\n",
    "\n",
    "# 去掉已编码的原属性\n",
    "df.drop(['domain','(L)HTTPstatus'], axis=1, inplace=True)\n",
    "#df.ix[:,df.columns!=999]\n",
    "\n",
    "# 拆分数据集为训练集和测试集\n",
    "train, test = train_test_split(df, test_size = 0.2)   # doing split of training and testing\n",
    "train_data, train_target= train.ix[:, train.columns != 'result'], train['result']\n",
    "test_data, test_target = test.ix[:, test.columns != 'result'], test['result']"
   ]
  },
  {
   "cell_type": "code",
   "execution_count": 17,
   "metadata": {
    "collapsed": true
   },
   "outputs": [],
   "source": [
    "# 模型反序列化\n",
    "p = pickle.load(open('pickled_model.p','rb'))"
   ]
  },
  {
   "cell_type": "code",
   "execution_count": 18,
   "metadata": {
    "collapsed": false
   },
   "outputs": [
    {
     "name": "stdout",
     "output_type": "stream",
     "text": [
      "↓↓↓↓ Test ↓↓↓↓\n",
      "Test_Accuracy >> \n",
      " [ 0.96666667  0.86666667  0.83333333  0.9         0.96666667  0.79310345\n",
      "  0.96428571  0.96428571  0.85714286  0.92857143]\n",
      "Test_Recall >> \n",
      " [ 0.9         0.7         1.          1.          0.9         0.6\n",
      "  0.88888889  1.          0.88888889  1.        ]\n",
      "Test_Precision >> \n",
      " [ 1.          0.875       0.69230769  0.83333333  1.          0.75        1.\n",
      "  0.9         0.72727273  0.81818182]\n",
      "Test_F1 >> \n",
      " [ 0.94736842  0.77777778  0.83333333  0.85714286  0.94736842  0.66666667\n",
      "  0.94117647  0.94736842  0.8         0.9       ]\n"
     ]
    }
   ],
   "source": [
    "print(\"↓↓↓↓ Test ↓↓↓↓\")\n",
    "test_accuracy = cross_val_score(p, test_data, test_target, cv=10,scoring='accuracy')\n",
    "print(\"Test_Accuracy >> \\n\",test_accuracy)\n",
    "test_recall = cross_val_score(p, test_data, test_target, cv=10,scoring='recall')\n",
    "print(\"Test_Recall >> \\n\",test_recall)\n",
    "test_recall = cross_val_score(p, test_data, test_target, cv=10,scoring='precision')\n",
    "print(\"Test_Precision >> \\n\",test_recall)\n",
    "test_recall = cross_val_score(p, test_data, test_target, cv=10,scoring='f1')\n",
    "print(\"Test_F1 >> \\n\",test_recall)"
   ]
  },
  {
   "cell_type": "code",
   "execution_count": 19,
   "metadata": {
    "collapsed": false
   },
   "outputs": [
    {
     "data": {
      "text/plain": [
       "array([0, 0, 0, 0, 0, 0, 0, 0, 0, 0, 0, 0, 1, 0, 0, 0, 0, 0, 0, 0, 0, 0, 0,\n",
       "       0, 0, 0, 0, 0, 0, 0, 0, 0, 0, 0, 0, 0, 0, 0, 1, 0, 0, 0, 0, 0, 0, 0,\n",
       "       0, 0, 0, 0, 0, 0, 0, 0, 0, 0, 0, 0, 0, 0, 0, 0, 0, 0, 0, 0, 0, 0, 0,\n",
       "       0, 0, 0, 0, 0, 0, 0, 0, 0, 0, 0, 0, 0, 0, 0, 0, 0, 0, 0, 1, 0, 0, 0,\n",
       "       0, 0, 0, 0, 0, 0, 0, 0, 0, 0, 0, 0, 0, 1, 0, 0, 0, 0, 0, 0, 0, 0, 0,\n",
       "       0, 0, 0, 0, 0, 0, 0, 0, 0, 0, 1, 0, 0, 0, 0, 0, 0, 0, 0, 0, 0, 0, 0,\n",
       "       0, 0, 0, 0, 0, 0, 0, 0, 1, 1, 0, 0, 0, 0, 0, 0, 0, 0, 0, 0, 0, 0, 0,\n",
       "       0, 0, 0, 0, 0, 1, 0, 0, 0, 0, 0, 0, 0, 0, 1, 1, 0, 1, 0, 0, 0, 0, 0,\n",
       "       0, 0, 0, 0, 0, 0, 0, 0, 0, 0, 0, 0, 0, 0, 0, 0, 0, 0, 0, 0, 0, 0, 0,\n",
       "       0, 0, 1, 0, 0, 0, 0, 0, 1, 0, 0, 0, 0, 0, 0, 1, 0, 0, 0, 1, 0, 0, 0,\n",
       "       0, 0, 0, 0, 0, 0, 0, 0, 0, 0, 0, 0, 0, 0, 0, 0, 0, 1, 0, 1, 0, 0, 0,\n",
       "       0, 0, 0, 0, 0, 0, 0, 0, 0, 0, 0, 0, 0, 1, 0, 0, 1, 0, 0, 0, 0, 1, 0,\n",
       "       0, 0, 0, 0, 0, 0, 0, 0, 0, 0, 0, 0, 0, 0, 0, 1, 0, 0, 1, 1, 0, 0, 0,\n",
       "       0, 0, 0, 0, 0, 0, 0, 0, 0, 0, 0, 0, 0, 0, 0, 0, 0, 0, 0, 0, 0, 0, 0,\n",
       "       0, 0, 0, 0, 0, 0, 0, 0, 0, 0, 0, 0, 0, 1, 0, 0, 0, 0, 0, 0, 0, 0, 0,\n",
       "       0, 0, 0, 0, 0, 0, 0, 0, 0, 0])"
      ]
     },
     "execution_count": 19,
     "metadata": {},
     "output_type": "execute_result"
    }
   ],
   "source": [
    "# 数据导入\n",
    "to_predict_file = pd.ExcelFile('predict.xls')\n",
    "# print(xls_file.sheet_names)  # check what Sheet name the file has.\n",
    "df = to_predict_file.parse('Sheet1')\n",
    "\n",
    "# 对范畴类变量进行编码\n",
    "for column in ['(L)HTTPstatus']:\n",
    "    dummies = pd.get_dummies(df[column])\n",
    "    df[dummies.columns]=dummies\n",
    "\n",
    "# 去掉已编码的原属性\n",
    "df.drop(['domain','(L)HTTPstatus','result'], axis=1, inplace=True)\n",
    "#df.drop(['result','domain','(L)HTTPstatus','(L)超链接数量','(L)外链数量','(L)有无外部js','(L)内部js匹配','(L)外部js匹配','(L)引用图片数量','(L)WebOCR','(R)超链接数量','(R)外链数量','(R)有无外部js','(R)内部js匹配','(R)外部js匹配','(R)引用图片数量','(R)WebOCR'], axis=1, inplace=True)\n",
    "predict_set = df\n",
    "#进行预测\n",
    "p.predict(predict_set)\n",
    "#clf.predict_log_proba(predict_set)"
   ]
  }
 ],
 "metadata": {
  "anaconda-cloud": {},
  "kernelspec": {
   "display_name": "Python [conda root]",
   "language": "python",
   "name": "conda-root-py"
  },
  "language_info": {
   "codemirror_mode": {
    "name": "ipython",
    "version": 3
   },
   "file_extension": ".py",
   "mimetype": "text/x-python",
   "name": "python",
   "nbconvert_exporter": "python",
   "pygments_lexer": "ipython3",
   "version": "3.5.2"
  }
 },
 "nbformat": 4,
 "nbformat_minor": 1
}
