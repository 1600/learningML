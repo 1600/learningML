{
 "cells": [
  {
   "cell_type": "code",
   "execution_count": 1,
   "metadata": {
    "collapsed": false
   },
   "outputs": [],
   "source": [
    "# -*- coding:utf-8 -*-\n",
    "import pandas as pd\n",
    "import numpy as np\n",
    "import subprocess\n",
    "import pydotplus\n",
    "import matplotlib\n",
    "import matplotlib.pyplot as plt\n",
    "from sklearn.ensemble import GradientBoostingClassifier\n",
    "from sklearn.model_selection import train_test_split\n",
    "from sklearn.model_selection import cross_val_score\n",
    "\n",
    "# 数据导入\n",
    "xls_file = pd.ExcelFile('alliance.xls')\n",
    "# print(xls_file.sheet_names)\n",
    "df = xls_file.parse('sheet1')\n",
    "df_target = df['result']"
   ]
  },
  {
   "cell_type": "code",
   "execution_count": 2,
   "metadata": {
    "collapsed": false
   },
   "outputs": [
    {
     "name": "stdout",
     "output_type": "stream",
     "text": [
      "(1241, 19)\n"
     ]
    }
   ],
   "source": [
    "# # 对范畴类变量进行编码   # disabled due to suspect this is useless.\n",
    "# for column in ['(L)HTTPstatus']:\n",
    "#     dummies = pd.get_dummies(df[column])\n",
    "#     df[dummies.columns]=dummies\n",
    "\n",
    "print(df.shape)\n",
    "    \n",
    "# 去掉已编码的原属性\n",
    "df.drop(['domain','(L)HTTPstatus'], axis=1, inplace=True)\n",
    "#df.ix[:,df.columns!=999]"
   ]
  },
  {
   "cell_type": "code",
   "execution_count": 3,
   "metadata": {
    "collapsed": false,
    "scrolled": true
   },
   "outputs": [],
   "source": [
    "# 拆分数据集为训练集和测试集\n",
    "train, test = train_test_split(df, test_size = 0.2)   # doing split of training and testing\n",
    "train_data, train_target= train.ix[:, train.columns != 'result'], train['result']\n",
    "test_data, test_target = test.ix[:, test.columns != 'result'], test['result']\n",
    "# print(train_data.shape)\n",
    "# print(train_target.shape)\n",
    "# headers = train_data.dtypes.index\n",
    "# print(headers)"
   ]
  },
  {
   "cell_type": "code",
   "execution_count": 4,
   "metadata": {
    "collapsed": false,
    "scrolled": true
   },
   "outputs": [
    {
     "name": "stdout",
     "output_type": "stream",
     "text": [
      "0.989919354839\n"
     ]
    }
   ],
   "source": [
    "# GradientBoost\n",
    "# 可控制参数为 n_estimators, max_depth\n",
    "# For datasets with a large number of classes we strongly recommend to use RandomForestClassifier as an alternative to GradientBoostingClassifier .\n",
    "#clf = GradientBoostingClassifier(n_estimators=200, learning_rate=1.0, max_depth=2, random_state=0)\n",
    "#clf = GradientBoostingClassifier(loss='deviance', learning_rate=0.1, n_estimators=200, subsample=1.0, criterion='friedman_mse', min_samples_split=2, min_samples_leaf=1, min_weight_fraction_leaf=0.0, max_depth=3, min_impurity_split=1e-07, init=None, random_state=None, max_features=None, verbose=0, max_leaf_nodes=None, warm_start=False, presort='auto')\n",
    "clf = GradientBoostingClassifier(learning_rate=0.1, n_estimators=200, subsample=0.8, criterion='friedman_mse', min_samples_split=2, min_samples_leaf=1, min_weight_fraction_leaf=0.0, max_depth=3, min_impurity_split=1e-07, init=None, random_state=None, max_features=None, verbose=0, max_leaf_nodes=None, warm_start=False, presort='auto')\n",
    "\n",
    "clf.fit(train_data,train_target)\n",
    "score = clf.score(train_data, train_target)\n",
    "clf_err = 1.0 - score\n",
    "print(score)"
   ]
  },
  {
   "cell_type": "code",
   "execution_count": 5,
   "metadata": {
    "collapsed": false
   },
   "outputs": [
    {
     "data": {
      "image/png": "[encoded data removed]",
      "text/plain": [
       "<matplotlib.figure.Figure at 0x7f8cecad1b38>"
      ]
     },
     "metadata": {},
     "output_type": "display_data"
    }
   ],
   "source": [
    "from sklearn.metrics import zero_one_loss\n",
    "from sklearn.metrics import accuracy_score\n",
    "from sklearn.metrics import roc_auc_score\n",
    "\n",
    "fig = plt.figure()\n",
    "\n",
    "ax = fig.add_subplot(211)\n",
    "ax2 = fig.add_subplot(212)\n",
    "#ax2 = fig.add_subplot(111)\n",
    "\n",
    "n_estimators=200\n",
    "\n",
    "GB_zero_one_loss=np.zeros((n_estimators,))\n",
    "GB_accuracy=np.zeros((n_estimators,))\n",
    "GB_auc=np.zeros((n_estimators,))\n",
    "\n",
    "for i, y_pred in enumerate(clf.staged_predict(test_data)):\n",
    "    #GB_zero_one_loss[i] = zero_one_loss(test_target , y_pred)\n",
    "    GB_accuracy[i]=accuracy_score(test_target , y_pred)\n",
    "    GB_auc[i]= roc_auc_score(test_target , y_pred)\n",
    "    #print(GB_auc[i])\n",
    "\n",
    "\n",
    "ax.plot(np.arange(n_estimators) + 1, GB_auc,\n",
    "        label='auc',\n",
    "        color='red')\n",
    "ax.set_ylim((0.8, 1.0))\n",
    "ax.set_xlabel('estimators')\n",
    "ax.set_ylabel('Area Under \\(AOC\\)urve')\n",
    "\n",
    "leg = ax.legend(loc='upper right', fancybox=True)\n",
    "leg.get_frame().set_alpha(0.7)\n",
    "\n",
    "ax2.plot(np.arange(n_estimators) + 1, GB_accuracy,\n",
    "        label='accuracy',\n",
    "        color='orange')\n",
    "\n",
    "ax2.set_xlabel('estimators')\n",
    "ax2.set_ylabel('accuracy')\n",
    "ax2.set_ylim((0.8, 1.0))\n",
    "\n",
    "leg2 = ax2.legend(loc='upper right', fancybox=True)\n",
    "leg2.get_frame().set_alpha(0.7)\n",
    "\n",
    "plt.show()"
   ]
  },
  {
   "cell_type": "code",
   "execution_count": 6,
   "metadata": {
    "collapsed": false
   },
   "outputs": [
    {
     "name": "stdout",
     "output_type": "stream",
     "text": [
      "↓↓↓↓ Test ↓↓↓↓\n",
      "Test_Accuracy avg 30 >> \n",
      " 0.909656084656\n",
      "Test_Recall avg 30 >> \n",
      " 0.877777777778\n",
      "Test_Precision avg 30 >> \n",
      " 0.882777777778\n",
      "Test_F1 avg 30 >> \n",
      " 0.875396825397\n"
     ]
    }
   ],
   "source": [
    "print(\"↓↓↓↓ Test ↓↓↓↓\")\n",
    "test_accuracy = cross_val_score(clf, test_data, test_target, cv=30,scoring='accuracy')\n",
    "test_recall = cross_val_score(clf, test_data, test_target, cv=30,scoring='recall')\n",
    "test_precision = cross_val_score(clf, test_data, test_target, cv=30,scoring='precision')\n",
    "test_f1 = cross_val_score(clf, test_data, test_target, cv=30,scoring='f1')\n",
    "\n",
    "print(\"Test_Accuracy avg 30 >> \\n\",np.mean(test_accuracy))\n",
    "print(\"Test_Recall avg 30 >> \\n\",np.mean(test_recall))\n",
    "print(\"Test_Precision avg 30 >> \\n\",np.mean(test_precision))\n",
    "print(\"Test_F1 avg 30 >> \\n\",np.mean(test_f1))"
   ]
  },
  {
   "cell_type": "code",
   "execution_count": 7,
   "metadata": {
    "collapsed": false
   },
   "outputs": [],
   "source": [
    "# # 预测数据\n",
    "# to_predict_file = pd.ExcelFile('predict.xls')\n",
    "# #print(xls_file.sheet_names)  # check what Sheet name the file has.\n",
    "# predict_set = to_predict_file.parse('Sheet1')\n",
    "# predict_set.drop(['domain','(L)HTTPstatus','result'], axis=1, inplace=True)\n",
    "# print(predict_set.shape)\n",
    "\n",
    "# clf.predict(predict_set)\n",
    "# clf.predict_log_proba(predict_set)"
   ]
  }
 ],
 "metadata": {
  "anaconda-cloud": {},
  "kernelspec": {
   "display_name": "Python [conda root]",
   "language": "python",
   "name": "conda-root-py"
  },
  "language_info": {
   "codemirror_mode": {
    "name": "ipython",
    "version": 3
   },
   "file_extension": ".py",
   "mimetype": "text/x-python",
   "name": "python",
   "nbconvert_exporter": "python",
   "pygments_lexer": "ipython3",
   "version": "3.5.2"
  }
 },
 "nbformat": 4,
 "nbformat_minor": 1
}
